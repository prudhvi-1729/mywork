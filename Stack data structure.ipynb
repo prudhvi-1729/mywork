{
 "cells": [
  {
   "cell_type": "code",
   "execution_count": 41,
   "metadata": {
    "scrolled": true
   },
   "outputs": [
    {
     "name": "stdout",
     "output_type": "stream",
     "text": [
      "ivhdurp olleh\n",
      "False\n"
     ]
    }
   ],
   "source": [
    "from collections import deque\n",
    "\n",
    "class Stack:\n",
    "    def __init__(self):\n",
    "        self.container=deque()\n",
    "    def push(self,data):\n",
    "        self.container.append(data)\n",
    "    def pop(self):\n",
    "        return (self.container.pop())\n",
    "    def peek(self):\n",
    "        return (self.container[-1])\n",
    "    def is_empty(self):   \n",
    "        return len(self.container)==0\n",
    "    def size(self):\n",
    "        return len(self.container)\n",
    "def string_reverse(str):\n",
    "    s=Stack()\n",
    "    for i in str:\n",
    "        s.push(i)\n",
    "    t=\"\"\n",
    "    while(s.size()!=0):\n",
    "        t=t+s.pop()\n",
    "    return t    \n",
    "def is_balanced(str):\n",
    "    stack=Stack()\n",
    "    k={'(':0,')':0,'{':0,'}':0,'[':0,']':0}\n",
    "    for i in str:\n",
    "        if i in k:\n",
    "            k[i]=k[i]+1\n",
    "    if(k['(']==k[')'] and k['{']==k['}'] and k['[']==k[']']):\n",
    "        return True\n",
    "    return False\n",
    "            \n",
    "print(string_reverse(\"hello prudhvi\"))\n",
    "print(is_balanced(\"9{9}}[]\"))"
   ]
  },
  {
   "cell_type": "code",
   "execution_count": 50,
   "metadata": {},
   "outputs": [
    {
     "name": "stdout",
     "output_type": "stream",
     "text": [
      "ivhdurp olleh\n",
      "True\n"
     ]
    }
   ],
   "source": [
    "from collections import deque\n",
    "\n",
    "class Stack:\n",
    "    def __init__(self):\n",
    "        self.container=deque()\n",
    "    def push(self,data):\n",
    "        self.container.append(data)\n",
    "    def pop(self):\n",
    "        return (self.container.pop())\n",
    "    def peek(self):\n",
    "        return (self.container[-1])\n",
    "    def is_empty(self):   \n",
    "        return len(self.container)==0\n",
    "    def size(self):\n",
    "        return len(self.container)\n",
    "    def is_match(self,ch1,ch2):\n",
    "        dict={\n",
    "            ']':'[',\n",
    "            '}':'{',\n",
    "            ')':'('\n",
    "        }\n",
    "        return dict[ch1]==ch2\n",
    "def string_reverse(str):\n",
    "    s=Stack()\n",
    "    for i in str:\n",
    "        s.push(i)\n",
    "    t=\"\"\n",
    "    while(s.size()!=0):\n",
    "        t=t+s.pop()\n",
    "    return t    \n",
    "def is_balanced(str):\n",
    "    stack=Stack()\n",
    "    for i in str:\n",
    "        if i==\"[\" or i==\"{\" or i==\"(\":\n",
    "            stack.push(i)\n",
    "        if i==\"]\" or i==\"}\" or i==\")\":\n",
    "            if stack.size()==0:\n",
    "                return False\n",
    "            if not (stack.is_match(i,stack.pop())):\n",
    "                return False\n",
    "    return stack.size()==0    \n",
    "            \n",
    "print(string_reverse(\"hello prudhvi\"))\n",
    "print(is_balanced(\"[a+b]*(x+2y)*{gg+kk}\"))"
   ]
  },
  {
   "cell_type": "code",
   "execution_count": null,
   "metadata": {},
   "outputs": [],
   "source": []
  }
 ],
 "metadata": {
  "kernelspec": {
   "display_name": "Python 3",
   "language": "python",
   "name": "python3"
  },
  "language_info": {
   "codemirror_mode": {
    "name": "ipython",
    "version": 3
   },
   "file_extension": ".py",
   "mimetype": "text/x-python",
   "name": "python",
   "nbconvert_exporter": "python",
   "pygments_lexer": "ipython3",
   "version": "3.6.5"
  }
 },
 "nbformat": 4,
 "nbformat_minor": 2
}
