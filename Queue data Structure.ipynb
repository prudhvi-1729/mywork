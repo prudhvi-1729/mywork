{
 "cells": [
  {
   "cell_type": "code",
   "execution_count": null,
   "metadata": {},
   "outputs": [],
   "source": []
  },
  {
   "cell_type": "code",
   "execution_count": 1,
   "metadata": {},
   "outputs": [
    {
     "name": "stdout",
     "output_type": "stream",
     "text": [
      "ordered pizza\n",
      "ordered samosa\n",
      "served pizza\n",
      "ordered pasta\n",
      "ordered biryani\n",
      "ordered burger\n",
      "served samosa\n",
      "served pasta\n",
      "served biryani\n",
      "served burger\n",
      "Queue is empty\n"
     ]
    },
    {
     "name": "stderr",
     "output_type": "stream",
     "text": [
      "Exception in thread Thread-7:\n",
      "Traceback (most recent call last):\n",
      "  File \"C:\\Users\\prudh\\Anaconda3\\lib\\threading.py\", line 916, in _bootstrap_inner\n",
      "    self.run()\n",
      "  File \"C:\\Users\\prudh\\Anaconda3\\lib\\threading.py\", line 864, in run\n",
      "    self._target(*self._args, **self._kwargs)\n",
      "  File \"<ipython-input-1-469133a5cef4>\", line 28, in serveOrder\n",
      "    print(\"served\",k.deque())\n",
      "  File \"<ipython-input-1-469133a5cef4>\", line 14, in deque\n",
      "    return self.q.pop()\n",
      "IndexError: pop from an empty deque\n",
      "\n"
     ]
    }
   ],
   "source": [
    "import time\n",
    "import threading\n",
    "from collections import deque\n",
    "class Queue:\n",
    "    def __init__(self):\n",
    "        self.q=deque()\n",
    "    def enque(self,data):\n",
    "        self.q.appendleft(data)\n",
    "    def deque(self):\n",
    "        if len(self.q)==0:\n",
    "            print(\"Queue is empty\")\n",
    "            exit()\n",
    "\n",
    "        return self.q.pop()\n",
    "    def is_empty(self):\n",
    "        return len(self.q)==0\n",
    "    def size(self):\n",
    "        return len(self.q)\n",
    "k=Queue()    \n",
    "def placeOrder(ord):\n",
    "    for i in ord:\n",
    "        k.enque(i)\n",
    "        print(\"ordered\",i)\n",
    "        time.sleep(0.5)      \n",
    "def serveOrder(): \n",
    "    time.sleep(1)\n",
    "    while True:\n",
    "        print(\"served\",k.deque())\n",
    "        time.sleep(2)\n",
    "orders = ['pizza','samosa','pasta','biryani','burger']\n",
    "t1 = threading.Thread(target=placeOrder, args=(orders,))\n",
    "t2 = threading.Thread(target=serveOrder)\n",
    "t1.start()\n",
    "t2.start()"
   ]
  },
  {
   "cell_type": "code",
   "execution_count": null,
   "metadata": {},
   "outputs": [],
   "source": []
  },
  {
   "cell_type": "code",
   "execution_count": null,
   "metadata": {},
   "outputs": [],
   "source": []
  }
 ],
 "metadata": {
  "kernelspec": {
   "display_name": "Python 3",
   "language": "python",
   "name": "python3"
  },
  "language_info": {
   "codemirror_mode": {
    "name": "ipython",
    "version": 3
   },
   "file_extension": ".py",
   "mimetype": "text/x-python",
   "name": "python",
   "nbconvert_exporter": "python",
   "pygments_lexer": "ipython3",
   "version": "3.6.5"
  }
 },
 "nbformat": 4,
 "nbformat_minor": 2
}
